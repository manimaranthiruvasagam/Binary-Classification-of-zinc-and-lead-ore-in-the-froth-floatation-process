{
 "cells": [
  {
   "cell_type": "code",
   "execution_count": 2,
   "metadata": {},
   "outputs": [
    {
     "name": "stderr",
     "output_type": "stream",
     "text": [
      "Using TensorFlow backend.\n"
     ]
    }
   ],
   "source": [
    "#Importing libraries\n",
    "from os import environ, chdir\n",
    "\n",
    "import keras\n",
    "from keras.preprocessing.image import ImageDataGenerator\n",
    "\n",
    "from keras import models, layers, optimizers, callbacks\n",
    "from keras.layers import Dense, Dropout, Flatten\n",
    "from keras.layers import Conv2D, MaxPooling2D, BatchNormalization,AveragePooling2D\n",
    "from keras.models import Sequential\n",
    "import matplotlib.pyplot as plt\n",
    "import numpy\n",
    "from numpy import set_printoptions\n",
    "\n",
    "from keras.utils import to_categorical\n",
    "from keras import models, layers\n",
    "chdir (r'E:\\Capstone\\split-20200229T043656Z-001')\n",
    "set_printoptions(precision=4,suppress=True)"
   ]
  },
  {
   "cell_type": "code",
   "execution_count": 3,
   "metadata": {},
   "outputs": [
    {
     "name": "stdout",
     "output_type": "stream",
     "text": [
      "WARNING:tensorflow:From C:\\Users\\Admin\\Anaconda3\\lib\\site-packages\\tensorflow\\python\\ops\\resource_variable_ops.py:435: colocate_with (from tensorflow.python.framework.ops) is deprecated and will be removed in a future version.\n",
      "Instructions for updating:\n",
      "Colocations handled automatically by placer.\n",
      "Model: \"sequential_1\"\n",
      "_________________________________________________________________\n",
      "Layer (type)                 Output Shape              Param #   \n",
      "=================================================================\n",
      "conv2d_1 (Conv2D)            (None, 62, 62, 32)        896       \n",
      "_________________________________________________________________\n",
      "max_pooling2d_1 (MaxPooling2 (None, 31, 31, 32)        0         \n",
      "_________________________________________________________________\n",
      "conv2d_2 (Conv2D)            (None, 29, 29, 32)        9248      \n",
      "_________________________________________________________________\n",
      "max_pooling2d_2 (MaxPooling2 (None, 14, 14, 32)        0         \n",
      "_________________________________________________________________\n",
      "flatten_1 (Flatten)          (None, 6272)              0         \n",
      "_________________________________________________________________\n",
      "dense_1 (Dense)              (None, 128)               802944    \n",
      "_________________________________________________________________\n",
      "dense_2 (Dense)              (None, 1)                 129       \n",
      "=================================================================\n",
      "Total params: 813,217\n",
      "Trainable params: 813,217\n",
      "Non-trainable params: 0\n",
      "_________________________________________________________________\n",
      "None\n"
     ]
    },
    {
     "name": "stderr",
     "output_type": "stream",
     "text": [
      "C:\\Users\\Admin\\Anaconda3\\lib\\site-packages\\ipykernel_launcher.py:12: UserWarning: Update your `Dense` call to the Keras 2 API: `Dense(activation=\"relu\", units=128)`\n",
      "  if sys.path[0] == '':\n",
      "C:\\Users\\Admin\\Anaconda3\\lib\\site-packages\\ipykernel_launcher.py:13: UserWarning: Update your `Dense` call to the Keras 2 API: `Dense(activation=\"sigmoid\", units=1)`\n",
      "  del sys.path[0]\n"
     ]
    }
   ],
   "source": [
    "# CNN Architecture\n",
    "cnn4 = Sequential()\n",
    "cnn4.add(Conv2D(32, kernel_size=(3, 3), activation='relu', input_shape=(64, 64,3)))\n",
    "cnn4.add(MaxPooling2D(pool_size=(2, 2)))\n",
    "\n",
    "cnn4.add(Conv2D(32, kernel_size=(3, 3),strides=(1, 1), activation='relu'))\n",
    "cnn4.add(MaxPooling2D(pool_size=(2, 2)))\n",
    "\n",
    "\n",
    "cnn4.add(Flatten())\n",
    "\n",
    "cnn4.add(Dense(output_dim=128, activation='relu'))\n",
    "cnn4.add(Dense(output_dim=1, activation='sigmoid'))\n",
    "print(cnn4.summary())\n",
    "\n",
    "\n",
    "# Model Loss function and Optimizer method\n",
    "compile = cnn4.compile (loss=keras.losses.binary_crossentropy,\n",
    "                            optimizer=keras.optimizers.Adam(),\n",
    "                            metrics=['accuracy'])"
   ]
  },
  {
   "cell_type": "code",
   "execution_count": 3,
   "metadata": {},
   "outputs": [
    {
     "name": "stdout",
     "output_type": "stream",
     "text": [
      "Found 2654 images belonging to 2 classes.\n",
      "Found 883 images belonging to 2 classes.\n"
     ]
    }
   ],
   "source": [
    "# Setting Image and Data Generators\n",
    "train_idg = ImageDataGenerator (rescale=1. / 255,\n",
    "                                horizontal_flip=True,\n",
    "                                zoom_range=0.2,\n",
    "                                shear_range=0.2,\n",
    "                                width_shift_range=0.1,\n",
    "                                height_shift_range=0.1)\n",
    "\n",
    "train_g = train_idg.flow_from_directory (directory=r'E:\\Capstone\\split-20200229T043656Z-001\\split\\train',\n",
    "                                         target_size=(64,64),class_mode='binary',\n",
    "                                         batch_size=32)\n",
    "\n",
    "valid_idg = ImageDataGenerator (rescale=1. / 255)\n",
    "\n",
    "valid_g = valid_idg.flow_from_directory (directory=r'E:\\Capstone\\split-20200229T043656Z-001\\split\\validation',\n",
    "                                         target_size=(64,64),class_mode='binary',\n",
    "                                         batch_size=32)"
   ]
  },
  {
   "cell_type": "code",
   "execution_count": 4,
   "metadata": {},
   "outputs": [
    {
     "name": "stdout",
     "output_type": "stream",
     "text": [
      "WARNING:tensorflow:From C:\\Users\\Admin\\Anaconda3\\lib\\site-packages\\tensorflow\\python\\ops\\math_ops.py:3066: to_int32 (from tensorflow.python.ops.math_ops) is deprecated and will be removed in a future version.\n",
      "Instructions for updating:\n",
      "Use tf.cast instead.\n",
      "Epoch 1/50\n",
      "20/20 [==============================] - 19s 953ms/step - loss: 0.6115 - accuracy: 0.7188 - val_loss: 0.3666 - val_accuracy: 0.8906\n",
      "Epoch 2/50\n",
      "20/20 [==============================] - 19s 964ms/step - loss: 0.3076 - accuracy: 0.8859 - val_loss: 1.3245 - val_accuracy: 0.6562\n",
      "Epoch 3/50\n",
      "20/20 [==============================] - 13s 646ms/step - loss: 0.1398 - accuracy: 0.9641 - val_loss: 0.9066 - val_accuracy: 0.6719\n",
      "Epoch 4/50\n",
      "20/20 [==============================] - 12s 605ms/step - loss: 0.0440 - accuracy: 0.9953 - val_loss: 1.1784 - val_accuracy: 0.6328\n",
      "Epoch 5/50\n",
      "20/20 [==============================] - 6s 325ms/step - loss: 0.0337 - accuracy: 0.9953 - val_loss: 2.3978 - val_accuracy: 0.5547\n",
      "Epoch 6/50\n",
      "20/20 [==============================] - 5s 242ms/step - loss: 0.0434 - accuracy: 0.9859 - val_loss: 0.7633 - val_accuracy: 0.6797\n",
      "Epoch 7/50\n",
      "20/20 [==============================] - 5s 241ms/step - loss: 0.0534 - accuracy: 0.9797 - val_loss: 0.4438 - val_accuracy: 0.8261\n",
      "Epoch 8/50\n",
      "20/20 [==============================] - 5s 249ms/step - loss: 0.0146 - accuracy: 0.9969 - val_loss: 1.3767 - val_accuracy: 0.6641\n",
      "Epoch 9/50\n",
      "20/20 [==============================] - 5s 243ms/step - loss: 0.0287 - accuracy: 0.9953 - val_loss: 1.7282 - val_accuracy: 0.5938\n",
      "Epoch 10/50\n",
      "20/20 [==============================] - 5s 240ms/step - loss: 0.0432 - accuracy: 0.9859 - val_loss: 1.3988 - val_accuracy: 0.6641\n",
      "Epoch 11/50\n",
      "20/20 [==============================] - 5s 254ms/step - loss: 0.1605 - accuracy: 0.9250 - val_loss: 1.7340 - val_accuracy: 0.6016\n",
      "Epoch 12/50\n",
      "20/20 [==============================] - 5s 234ms/step - loss: 0.0754 - accuracy: 0.9750 - val_loss: 2.2787 - val_accuracy: 0.6484\n",
      "Epoch 13/50\n",
      "20/20 [==============================] - 5s 251ms/step - loss: 0.0379 - accuracy: 0.9922 - val_loss: 0.4296 - val_accuracy: 0.7656\n",
      "Epoch 14/50\n",
      "20/20 [==============================] - 5s 258ms/step - loss: 0.0329 - accuracy: 0.9953 - val_loss: 1.2254 - val_accuracy: 0.7391\n",
      "Epoch 15/50\n",
      "20/20 [==============================] - 5s 260ms/step - loss: 0.0115 - accuracy: 0.9969 - val_loss: 1.4798 - val_accuracy: 0.6953\n",
      "Epoch 16/50\n",
      "20/20 [==============================] - 5s 247ms/step - loss: 0.0163 - accuracy: 0.9937 - val_loss: 0.3570 - val_accuracy: 0.8828\n",
      "Epoch 17/50\n",
      "20/20 [==============================] - 5s 248ms/step - loss: 0.0312 - accuracy: 0.9906 - val_loss: 0.1951 - val_accuracy: 0.7734\n",
      "Epoch 18/50\n",
      "20/20 [==============================] - 5s 242ms/step - loss: 0.0357 - accuracy: 0.9891 - val_loss: 3.0291 - val_accuracy: 0.5703\n",
      "Epoch 19/50\n",
      "20/20 [==============================] - 5s 243ms/step - loss: 0.0131 - accuracy: 0.9969 - val_loss: 0.7776 - val_accuracy: 0.7500\n",
      "Epoch 20/50\n",
      "20/20 [==============================] - 5s 239ms/step - loss: 0.0281 - accuracy: 0.9922 - val_loss: 1.8412 - val_accuracy: 0.6641\n",
      "Epoch 21/50\n",
      "20/20 [==============================] - 5s 238ms/step - loss: 0.0334 - accuracy: 0.9922 - val_loss: 0.2920 - val_accuracy: 0.8609\n",
      "Epoch 22/50\n",
      "20/20 [==============================] - 5s 245ms/step - loss: 0.0180 - accuracy: 0.9937 - val_loss: 1.1771 - val_accuracy: 0.6797\n",
      "Epoch 23/50\n",
      "20/20 [==============================] - 5s 241ms/step - loss: 0.0137 - accuracy: 0.9984 - val_loss: 0.8664 - val_accuracy: 0.7344\n",
      "Epoch 24/50\n",
      "20/20 [==============================] - 5s 254ms/step - loss: 0.0045 - accuracy: 1.0000 - val_loss: 1.4561 - val_accuracy: 0.6953\n",
      "Epoch 25/50\n",
      "20/20 [==============================] - 5s 259ms/step - loss: 0.0038 - accuracy: 1.0000 - val_loss: 0.3846 - val_accuracy: 0.8281\n",
      "Epoch 26/50\n",
      "20/20 [==============================] - 5s 264ms/step - loss: 0.0024 - accuracy: 1.0000 - val_loss: 0.9916 - val_accuracy: 0.7344\n",
      "Epoch 27/50\n",
      "20/20 [==============================] - 5s 253ms/step - loss: 0.0043 - accuracy: 1.0000 - val_loss: 1.2072 - val_accuracy: 0.6875\n",
      "Epoch 28/50\n",
      "20/20 [==============================] - 5s 252ms/step - loss: 0.0052 - accuracy: 0.9984 - val_loss: 0.8625 - val_accuracy: 0.7130\n",
      "Epoch 29/50\n",
      "20/20 [==============================] - 6s 291ms/step - loss: 0.0162 - accuracy: 0.9969 - val_loss: 0.7707 - val_accuracy: 0.7578\n",
      "Epoch 30/50\n",
      "20/20 [==============================] - 6s 282ms/step - loss: 0.0032 - accuracy: 1.0000 - val_loss: 0.1015 - val_accuracy: 0.9062\n",
      "Epoch 31/50\n",
      "20/20 [==============================] - 5s 258ms/step - loss: 0.0255 - accuracy: 0.9937 - val_loss: 0.7718 - val_accuracy: 0.8281\n",
      "Epoch 32/50\n",
      "20/20 [==============================] - 5s 257ms/step - loss: 0.0023 - accuracy: 1.0000 - val_loss: 1.4387 - val_accuracy: 0.7891\n",
      "Epoch 33/50\n",
      "20/20 [==============================] - 5s 248ms/step - loss: 0.0208 - accuracy: 0.9922 - val_loss: 0.1840 - val_accuracy: 0.8906\n",
      "Epoch 34/50\n",
      "20/20 [==============================] - 5s 266ms/step - loss: 0.0524 - accuracy: 0.9797 - val_loss: 0.0010 - val_accuracy: 1.0000\n",
      "Epoch 35/50\n",
      "20/20 [==============================] - 5s 267ms/step - loss: 0.1355 - accuracy: 0.9516 - val_loss: 3.2457 - val_accuracy: 0.5826\n",
      "Epoch 36/50\n",
      "20/20 [==============================] - 5s 269ms/step - loss: 0.0749 - accuracy: 0.9688 - val_loss: 0.4166 - val_accuracy: 0.7812\n",
      "Epoch 37/50\n",
      "20/20 [==============================] - 5s 268ms/step - loss: 0.0173 - accuracy: 0.9969 - val_loss: 0.8408 - val_accuracy: 0.6953\n",
      "Epoch 38/50\n",
      "20/20 [==============================] - 5s 250ms/step - loss: 0.0095 - accuracy: 0.9984 - val_loss: 0.8507 - val_accuracy: 0.7969\n",
      "Epoch 39/50\n",
      "20/20 [==============================] - 5s 245ms/step - loss: 0.0131 - accuracy: 0.9969 - val_loss: 0.3486 - val_accuracy: 0.9297\n",
      "Epoch 40/50\n",
      "20/20 [==============================] - 5s 244ms/step - loss: 0.0195 - accuracy: 0.9906 - val_loss: 1.4350 - val_accuracy: 0.6719\n",
      "Epoch 41/50\n",
      "20/20 [==============================] - 5s 243ms/step - loss: 0.0062 - accuracy: 0.9969 - val_loss: 1.2342 - val_accuracy: 0.7891\n",
      "Epoch 42/50\n",
      "20/20 [==============================] - 5s 245ms/step - loss: 0.0030 - accuracy: 1.0000 - val_loss: 0.7817 - val_accuracy: 0.7304\n",
      "Epoch 43/50\n",
      "20/20 [==============================] - 5s 255ms/step - loss: 0.0024 - accuracy: 1.0000 - val_loss: 0.8692 - val_accuracy: 0.8125\n",
      "Epoch 44/50\n",
      "20/20 [==============================] - 5s 242ms/step - loss: 0.0192 - accuracy: 0.9953 - val_loss: 0.0291 - val_accuracy: 0.9844\n",
      "Epoch 45/50\n",
      "20/20 [==============================] - 5s 256ms/step - loss: 0.0280 - accuracy: 0.9922 - val_loss: 1.6134 - val_accuracy: 0.6328\n",
      "Epoch 46/50\n",
      "20/20 [==============================] - 5s 267ms/step - loss: 0.0052 - accuracy: 0.9984 - val_loss: 0.8527 - val_accuracy: 0.7500\n",
      "Epoch 47/50\n",
      "20/20 [==============================] - 5s 239ms/step - loss: 0.0081 - accuracy: 0.9984 - val_loss: 1.4237 - val_accuracy: 0.6250\n",
      "Epoch 48/50\n",
      "20/20 [==============================] - 5s 251ms/step - loss: 0.0319 - accuracy: 0.9891 - val_loss: 4.9765 - val_accuracy: 0.5625\n",
      "Epoch 49/50\n",
      "20/20 [==============================] - 5s 255ms/step - loss: 0.1362 - accuracy: 0.9453 - val_loss: 2.2762 - val_accuracy: 0.6174\n",
      "Epoch 50/50\n",
      "20/20 [==============================] - 5s 255ms/step - loss: 0.0353 - accuracy: 0.9875 - val_loss: 0.1000 - val_accuracy: 0.9688\n"
     ]
    }
   ],
   "source": [
    "# Training Options\n",
    "fit = cnn4.fit_generator (generator=train_g, steps_per_epoch=20, epochs=50, verbose=1,\n",
    "                              validation_data=valid_g, validation_steps=4)"
   ]
  },
  {
   "cell_type": "code",
   "execution_count": 8,
   "metadata": {},
   "outputs": [
    {
     "name": "stdout",
     "output_type": "stream",
     "text": [
      "Found 40 images belonging to 2 classes.\n",
      "Evaluation loss over never seen images is : 0.1066\n",
      "Evaluation accuracy over never seen images is : 93.75%\n"
     ]
    }
   ],
   "source": [
    "#Evaluating model\n",
    "eval_idg = ImageDataGenerator (rescale=1. / 255)\n",
    "eval_g = eval_idg.flow_from_directory (directory=r'E:\\Capstone\\split-20200229T043656Z-001\\split\\test',\n",
    "                                         target_size=(64,64),class_mode='binary',\n",
    "                                         batch_size=32,shuffle=False)\n",
    "eval_loss,eval_acc=cnn4.evaluate_generator(generator=eval_g,steps=1)\n",
    "print('Evaluation loss over never seen images is : {:.4f}' .format(eval_loss))\n",
    "print('Evaluation accuracy over never seen images is : {:4.2f}%' .format(eval_acc*100))"
   ]
  },
  {
   "cell_type": "code",
   "execution_count": 4,
   "metadata": {},
   "outputs": [],
   "source": [
    "# Saving Model\n",
    "cnn4.save (filepath=r'lead_zinc classification.h5', overwrite=True)"
   ]
  },
  {
   "cell_type": "code",
   "execution_count": null,
   "metadata": {},
   "outputs": [],
   "source": []
  }
 ],
 "metadata": {
  "kernelspec": {
   "display_name": "Python 3",
   "language": "python",
   "name": "python3"
  },
  "language_info": {
   "codemirror_mode": {
    "name": "ipython",
    "version": 3
   },
   "file_extension": ".py",
   "mimetype": "text/x-python",
   "name": "python",
   "nbconvert_exporter": "python",
   "pygments_lexer": "ipython3",
   "version": "3.7.3"
  }
 },
 "nbformat": 4,
 "nbformat_minor": 2
}
